{
 "cells": [
  {
   "cell_type": "code",
   "execution_count": 1,
   "metadata": {},
   "outputs": [],
   "source": [
    "import pandas as pd"
   ]
  },
  {
   "cell_type": "code",
   "execution_count": null,
   "metadata": {},
   "outputs": [],
   "source": [
    "pages_folder = \"data/raw_pages\"\n",
    "sentiments_folder = \"data/sentiments\"\n",
    "\n",
    "output_folder = \"data/pages_with_sentiment\"\n",
    "\n",
    "pages_to_combine = [5, 6]"
   ]
  },
  {
   "cell_type": "code",
   "execution_count": 3,
   "metadata": {},
   "outputs": [],
   "source": [
    "for page in pages_to_combine:\n",
    "    page_df = pd.read_json(f\"{pages_folder}/page{page}.json\")\n",
    "    sentiments_df = pd.read_csv(f\"{sentiments_folder}/page{page}.csv\", header=None)\n",
    "\n",
    "    page_df[\"sentiment\"] = sentiments_df\n",
    "\n",
    "    page_df.to_json(f\"{output_folder}/page{page}.json\", orient=\"records\", indent=2)"
   ]
  },
  {
   "cell_type": "code",
   "execution_count": null,
   "metadata": {},
   "outputs": [],
   "source": []
  }
 ],
 "metadata": {
  "kernelspec": {
   "display_name": "Python 3",
   "language": "python",
   "name": "python3"
  },
  "language_info": {
   "codemirror_mode": {
    "name": "ipython",
    "version": 3
   },
   "file_extension": ".py",
   "mimetype": "text/x-python",
   "name": "python",
   "nbconvert_exporter": "python",
   "pygments_lexer": "ipython3",
   "version": "3.12.7"
  }
 },
 "nbformat": 4,
 "nbformat_minor": 2
}
