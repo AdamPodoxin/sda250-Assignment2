{
 "cells": [
  {
   "cell_type": "code",
   "execution_count": 61,
   "metadata": {},
   "outputs": [],
   "source": [
    "import pandas as pd\n",
    "from nltk.sentiment.vader import SentimentIntensityAnalyzer\n",
    "from nltk import tokenize"
   ]
  },
  {
   "cell_type": "code",
   "execution_count": 62,
   "metadata": {},
   "outputs": [],
   "source": [
    "def load_data(page_numbers: list[int]):\n",
    "    pages = [pd.read_json(f\"data/pages_with_sentiment/page{page}.json\") \n",
    "             for page in page_numbers]\n",
    "\n",
    "    return pd.concat(pages)"
   ]
  },
  {
   "cell_type": "code",
   "execution_count": 63,
   "metadata": {},
   "outputs": [],
   "source": [
    "sia = SentimentIntensityAnalyzer()\n",
    "\n",
    "def predict_sentiment(text: str):\n",
    "    sentences = tokenize.sent_tokenize(text)\n",
    "    sentence_sentiments = [sia.polarity_scores(sentence)[\"compound\"] for sentence in sentences]\n",
    "\n",
    "    compound_score = sum(sentence_sentiments) / len(sentence_sentiments)\n",
    "\n",
    "    if compound_score >= 0:\n",
    "        return \"Positive\"\n",
    "    else:\n",
    "        return \"Negative\""
   ]
  },
  {
   "cell_type": "code",
   "execution_count": 64,
   "metadata": {},
   "outputs": [],
   "source": [
    "def calculate_prediction_accuracy(data: pd.DataFrame):\n",
    "    num_correct = len(data[data[\"sentiment\"] == data[\"predicted_sentiment\"]])\n",
    "    return num_correct / len(data)"
   ]
  },
  {
   "cell_type": "markdown",
   "metadata": {},
   "source": [
    "### Results"
   ]
  },
  {
   "cell_type": "code",
   "execution_count": 65,
   "metadata": {},
   "outputs": [
    {
     "name": "stdout",
     "output_type": "stream",
     "text": [
      "Loaded 88 statements\n",
      "The sentiment analyzer was able to predict with accuracy of 0.60\n"
     ]
    }
   ],
   "source": [
    "data = load_data([1, 2, 3, 4, 5, 6])\n",
    "print(\"Loaded\", len(data), \"statements\")\n",
    "\n",
    "data[\"predicted_sentiment\"] = data[\"text\"].apply(predict_sentiment)\n",
    "\n",
    "accuracy = calculate_prediction_accuracy(data)\n",
    "\n",
    "print(\"The sentiment analyzer was able to predict with accuracy of {:.2f}\".format(accuracy))"
   ]
  },
  {
   "cell_type": "markdown",
   "metadata": {},
   "source": [
    "### Breakdown"
   ]
  },
  {
   "cell_type": "code",
   "execution_count": 69,
   "metadata": {},
   "outputs": [
    {
     "name": "stdout",
     "output_type": "stream",
     "text": [
      "\t\t\t     Actual values\n",
      "\t\t\t  Positive    Negative\n",
      "Predicted\n",
      "values\n",
      "\t\t Positive   36 \t\t 4\n",
      "\t\t Negative   27 \t\t 17\n"
     ]
    }
   ],
   "source": [
    "num_positive = len(data[data[\"sentiment\"] == \"Positive\"])\n",
    "num_positive_correct = len(data[(data[\"sentiment\"] == \"Positive\") & (data[\"predicted_sentiment\"] == \"Positive\")])\n",
    "num_positive_incorrect = num_positive - num_positive_correct\n",
    "\n",
    "num_negative = len(data[data[\"sentiment\"] == \"Negative\"])\n",
    "num_negative_correct = len(data[(data[\"sentiment\"] == \"Negative\") & (data[\"predicted_sentiment\"] == \"Negative\")])\n",
    "num_negative_incorrect = num_negative - num_negative_correct\n",
    "\n",
    "print(\"\\t\\t\\t     Actual values\")\n",
    "print(\"\\t\\t\\t  Positive    Negative\")\n",
    "print(\"Predicted\\nvalues\")\n",
    "print(\"\\t\\t Positive  \", num_positive_correct, \"\\t\\t\", num_positive_incorrect)\n",
    "print(\"\\t\\t Negative  \", num_negative_incorrect, \"\\t\\t\", num_negative_correct)"
   ]
  },
  {
   "cell_type": "code",
   "execution_count": null,
   "metadata": {},
   "outputs": [],
   "source": []
  }
 ],
 "metadata": {
  "kernelspec": {
   "display_name": "Python 3",
   "language": "python",
   "name": "python3"
  },
  "language_info": {
   "codemirror_mode": {
    "name": "ipython",
    "version": 3
   },
   "file_extension": ".py",
   "mimetype": "text/x-python",
   "name": "python",
   "nbconvert_exporter": "python",
   "pygments_lexer": "ipython3",
   "version": "3.12.7"
  }
 },
 "nbformat": 4,
 "nbformat_minor": 2
}
