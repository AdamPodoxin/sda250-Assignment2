{
 "cells": [
  {
   "cell_type": "code",
   "execution_count": 12,
   "metadata": {},
   "outputs": [],
   "source": [
    "import pandas as pd\n",
    "from nltk.sentiment.vader import SentimentIntensityAnalyzer\n",
    "from nltk import tokenize"
   ]
  },
  {
   "cell_type": "code",
   "execution_count": 13,
   "metadata": {},
   "outputs": [],
   "source": [
    "def load_data(page_numbers: list[int]):\n",
    "    pages = [pd.read_json(f\"data/pages_with_sentiment/page{page}.json\") \n",
    "             for page in page_numbers]\n",
    "\n",
    "    return pd.concat(pages)"
   ]
  },
  {
   "cell_type": "code",
   "execution_count": null,
   "metadata": {},
   "outputs": [],
   "source": [
    "sia = SentimentIntensityAnalyzer()\n",
    "\n",
    "def predict_sentiment(text: str):\n",
    "    compound_score = sia.polarity_scores(text)[\"compound\"]\n",
    "\n",
    "    if compound_score >= 0:\n",
    "        return \"Positive\"\n",
    "    else:\n",
    "        return \"Negative\""
   ]
  },
  {
   "cell_type": "code",
   "execution_count": 15,
   "metadata": {},
   "outputs": [],
   "source": [
    "def calculate_prediction_accuracy(data: pd.DataFrame):\n",
    "    num_correct = len(data[data[\"sentiment\"] == data[\"predicted_sentiment\"]])\n",
    "    return num_correct / len(data)"
   ]
  },
  {
   "cell_type": "code",
   "execution_count": 16,
   "metadata": {},
   "outputs": [
    {
     "name": "stdout",
     "output_type": "stream",
     "text": [
      "Loaded 88 statements\n",
      "The sentiment analyzer was able to predict with accuracy of 0.59\n"
     ]
    }
   ],
   "source": [
    "data = load_data([1, 2, 3, 4, 5, 6])\n",
    "print(\"Loaded\", len(data), \"statements\")\n",
    "\n",
    "data[\"predicted_sentiment\"] = data[\"text\"].apply(predict_sentiment)\n",
    "\n",
    "accuracy = calculate_prediction_accuracy(data)\n",
    "\n",
    "print(\"The sentiment analyzer was able to predict with accuracy of {:.2f}\".format(accuracy))"
   ]
  }
 ],
 "metadata": {
  "kernelspec": {
   "display_name": "Python 3",
   "language": "python",
   "name": "python3"
  },
  "language_info": {
   "codemirror_mode": {
    "name": "ipython",
    "version": 3
   },
   "file_extension": ".py",
   "mimetype": "text/x-python",
   "name": "python",
   "nbconvert_exporter": "python",
   "pygments_lexer": "ipython3",
   "version": "3.12.7"
  }
 },
 "nbformat": 4,
 "nbformat_minor": 2
}
