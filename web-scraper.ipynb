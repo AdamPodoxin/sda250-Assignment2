{
 "cells": [
  {
   "cell_type": "code",
   "execution_count": 8,
   "metadata": {},
   "outputs": [],
   "source": [
    "import requests\n",
    "import bs4.element\n",
    "from bs4 import BeautifulSoup as bs\n",
    "import pandas as pd"
   ]
  },
  {
   "cell_type": "code",
   "execution_count": 19,
   "metadata": {},
   "outputs": [],
   "source": [
    "url = \"https://openparliament.ca/bills/44-1/C-62/?tab=major-speeches\"\n",
    "pages_to_scrape = [3]"
   ]
  },
  {
   "cell_type": "code",
   "execution_count": 22,
   "metadata": {},
   "outputs": [],
   "source": [
    "def is_statement_div(tag: bs4.element.Tag):\n",
    "    if tag.has_attr(\"data-url\"):\n",
    "        data_url: str = tag[\"data-url\"]\n",
    "        if \"procedural\" in data_url:\n",
    "            return False\n",
    "\n",
    "    if not tag.has_attr(\"class\"):\n",
    "        return False\n",
    "    \n",
    "    classes: list[str] = tag[\"class\"]\n",
    "    return \"statement\" in classes\n",
    "    "
   ]
  },
  {
   "cell_type": "code",
   "execution_count": null,
   "metadata": {},
   "outputs": [],
   "source": [
    "path_to_save = \"data/raw_pages\"\n",
    "\n",
    "session = requests.session()\n",
    "\n",
    "for page in pages_to_scrape:\n",
    "    response = session.get(f\"{url}&page={page}\")\n",
    "\n",
    "    soup = bs(response.content, \"html.parser\")\n",
    "\n",
    "    statement_elements = soup.findAll(is_statement_div)\n",
    "\n",
    "    texts = list()\n",
    "\n",
    "    for statement_element in statement_elements:\n",
    "        statement_element: bs4.element.Tag = statement_element\n",
    "        text_element = statement_element.find(\"div\", {\"class\": \"text\"})\n",
    "        text = text_element.get_text()\n",
    "\n",
    "        texts.append(text)\n",
    "\n",
    "    page_df = pd.DataFrame({\"text\": texts})\n",
    "    page_df.to_json(f\"{path_to_save}/page{page}.json\", orient=\"records\", indent=2)"
   ]
  },
  {
   "cell_type": "code",
   "execution_count": 14,
   "metadata": {},
   "outputs": [
    {
     "data": {
      "text/plain": [
       "True"
      ]
     },
     "execution_count": 14,
     "metadata": {},
     "output_type": "execute_result"
    }
   ],
   "source": [
    "\"procedural\" in \"/debates/2024/2/13/procedural-1/\""
   ]
  },
  {
   "cell_type": "code",
   "execution_count": null,
   "metadata": {},
   "outputs": [],
   "source": []
  }
 ],
 "metadata": {
  "kernelspec": {
   "display_name": "Python 3",
   "language": "python",
   "name": "python3"
  },
  "language_info": {
   "codemirror_mode": {
    "name": "ipython",
    "version": 3
   },
   "file_extension": ".py",
   "mimetype": "text/x-python",
   "name": "python",
   "nbconvert_exporter": "python",
   "pygments_lexer": "ipython3",
   "version": "3.12.7"
  }
 },
 "nbformat": 4,
 "nbformat_minor": 2
}
